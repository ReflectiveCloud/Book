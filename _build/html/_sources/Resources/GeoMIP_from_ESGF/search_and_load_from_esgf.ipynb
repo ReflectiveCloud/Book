{
 "cells": [
  {
   "cell_type": "markdown",
   "metadata": {},
   "source": [
    "# Loading data directly from ESGF nodes"
   ]
  },
  {
   "cell_type": "markdown",
   "metadata": {},
   "source": [
    "* This notebook demonstrates searching for and loading CMIP simulations from ESGF, using the <a href=\"https://github.com/esgf2-us/intake-esgf\" style=\"color: blue; text-decoration: underline;\">intake_esgf</a> package.\n",
    "* This code is taken from the intake-esgf <a href=\"https://intake-esgf.readthedocs.io/en/latest/beginner.html\" style=\"color: blue; text-decoration: underline;\">tutorial</a>. Please refer there for a fuller explanation of each step. \n",
    "* The data search uses the standard CMIP directory structure, see <a href=\"https://help.ceda.ac.uk/article/4801-cmip6-data#CMIP6%20data%20structure\" style=\"color: blue; text-decoration: underline;\">here</a> for an explanation. We make use of xarray; see <a href=\"https://tutorial.xarray.dev/intro.html\" style=\"color: blue; text-decoration: underline;\">this turorial</a> for an introduction. "
   ]
  },
  {
   "cell_type": "code",
   "execution_count": 5,
   "metadata": {
    "collapsed": true,
    "jupyter": {
     "outputs_hidden": true
    }
   },
   "outputs": [
    {
     "name": "stdout",
     "output_type": "stream",
     "text": [
      "Collecting intake_esgf\n",
      "  Downloading intake_esgf-2024.12.7-py3-none-any.whl.metadata (4.0 kB)\n",
      "Requirement already satisfied: pandas in /srv/conda/envs/notebook/lib/python3.12/site-packages (from intake_esgf) (2.2.3)\n",
      "Requirement already satisfied: dask in /srv/conda/envs/notebook/lib/python3.12/site-packages (from intake_esgf) (2025.1.0)\n",
      "Requirement already satisfied: xarray in /srv/conda/envs/notebook/lib/python3.12/site-packages (from intake_esgf) (2025.1.1)\n",
      "Requirement already satisfied: netCDF4 in /srv/conda/envs/notebook/lib/python3.12/site-packages (from intake_esgf) (1.7.2)\n",
      "Collecting globus-sdk (from intake_esgf)\n",
      "  Downloading globus_sdk-3.55.0-py3-none-any.whl.metadata (3.3 kB)\n",
      "Requirement already satisfied: requests in /srv/conda/envs/notebook/lib/python3.12/site-packages (from intake_esgf) (2.32.3)\n",
      "Requirement already satisfied: tqdm[notebook] in /srv/conda/envs/notebook/lib/python3.12/site-packages (from intake_esgf) (4.67.1)\n",
      "Requirement already satisfied: pyyaml in /srv/conda/envs/notebook/lib/python3.12/site-packages (from intake_esgf) (6.0.2)\n",
      "Requirement already satisfied: click>=8.1 in /srv/conda/envs/notebook/lib/python3.12/site-packages (from dask->intake_esgf) (8.1.8)\n",
      "Requirement already satisfied: cloudpickle>=3.0.0 in /srv/conda/envs/notebook/lib/python3.12/site-packages (from dask->intake_esgf) (3.1.1)\n",
      "Requirement already satisfied: fsspec>=2021.09.0 in /srv/conda/envs/notebook/lib/python3.12/site-packages (from dask->intake_esgf) (2024.12.0)\n",
      "Requirement already satisfied: packaging>=20.0 in /srv/conda/envs/notebook/lib/python3.12/site-packages (from dask->intake_esgf) (24.2)\n",
      "Requirement already satisfied: partd>=1.4.0 in /srv/conda/envs/notebook/lib/python3.12/site-packages (from dask->intake_esgf) (1.4.2)\n",
      "Requirement already satisfied: toolz>=0.10.0 in /srv/conda/envs/notebook/lib/python3.12/site-packages (from dask->intake_esgf) (1.0.0)\n",
      "Requirement already satisfied: pyjwt<3.0.0,>=2.0.0 in /srv/conda/envs/notebook/lib/python3.12/site-packages (from pyjwt[crypto]<3.0.0,>=2.0.0->globus-sdk->intake_esgf) (2.10.1)\n",
      "Requirement already satisfied: cryptography!=3.4.0,>=3.3.1 in /srv/conda/envs/notebook/lib/python3.12/site-packages (from globus-sdk->intake_esgf) (43.0.1)\n",
      "Requirement already satisfied: charset_normalizer<4,>=2 in /srv/conda/envs/notebook/lib/python3.12/site-packages (from requests->intake_esgf) (3.4.1)\n",
      "Requirement already satisfied: idna<4,>=2.5 in /srv/conda/envs/notebook/lib/python3.12/site-packages (from requests->intake_esgf) (3.10)\n",
      "Requirement already satisfied: urllib3<3,>=1.21.1 in /srv/conda/envs/notebook/lib/python3.12/site-packages (from requests->intake_esgf) (1.26.19)\n",
      "Requirement already satisfied: certifi>=2017.4.17 in /srv/conda/envs/notebook/lib/python3.12/site-packages (from requests->intake_esgf) (2024.12.14)\n",
      "Requirement already satisfied: cftime in /srv/conda/envs/notebook/lib/python3.12/site-packages (from netCDF4->intake_esgf) (1.6.4)\n",
      "Requirement already satisfied: numpy in /srv/conda/envs/notebook/lib/python3.12/site-packages (from netCDF4->intake_esgf) (2.0.2)\n",
      "Requirement already satisfied: python-dateutil>=2.8.2 in /srv/conda/envs/notebook/lib/python3.12/site-packages (from pandas->intake_esgf) (2.9.0)\n",
      "Requirement already satisfied: pytz>=2020.1 in /srv/conda/envs/notebook/lib/python3.12/site-packages (from pandas->intake_esgf) (2024.1)\n",
      "Requirement already satisfied: tzdata>=2022.7 in /srv/conda/envs/notebook/lib/python3.12/site-packages (from pandas->intake_esgf) (2025.1)\n",
      "Requirement already satisfied: ipywidgets>=6 in /srv/conda/envs/notebook/lib/python3.12/site-packages (from tqdm[notebook]->intake_esgf) (8.1.5)\n",
      "Requirement already satisfied: cffi>=1.12 in /srv/conda/envs/notebook/lib/python3.12/site-packages (from cryptography!=3.4.0,>=3.3.1->globus-sdk->intake_esgf) (1.17.1)\n",
      "Requirement already satisfied: comm>=0.1.3 in /srv/conda/envs/notebook/lib/python3.12/site-packages (from ipywidgets>=6->tqdm[notebook]->intake_esgf) (0.2.2)\n",
      "Requirement already satisfied: ipython>=6.1.0 in /srv/conda/envs/notebook/lib/python3.12/site-packages (from ipywidgets>=6->tqdm[notebook]->intake_esgf) (8.17.2)\n",
      "Requirement already satisfied: traitlets>=4.3.1 in /srv/conda/envs/notebook/lib/python3.12/site-packages (from ipywidgets>=6->tqdm[notebook]->intake_esgf) (5.14.3)\n",
      "Requirement already satisfied: widgetsnbextension~=4.0.12 in /srv/conda/envs/notebook/lib/python3.12/site-packages (from ipywidgets>=6->tqdm[notebook]->intake_esgf) (4.0.13)\n",
      "Requirement already satisfied: jupyterlab_widgets~=3.0.12 in /srv/conda/envs/notebook/lib/python3.12/site-packages (from ipywidgets>=6->tqdm[notebook]->intake_esgf) (3.0.13)\n",
      "Requirement already satisfied: locket in /srv/conda/envs/notebook/lib/python3.12/site-packages (from partd>=1.4.0->dask->intake_esgf) (1.0.0)\n",
      "Requirement already satisfied: six>=1.5 in /srv/conda/envs/notebook/lib/python3.12/site-packages (from python-dateutil>=2.8.2->pandas->intake_esgf) (1.17.0)\n",
      "Requirement already satisfied: pycparser in /srv/conda/envs/notebook/lib/python3.12/site-packages (from cffi>=1.12->cryptography!=3.4.0,>=3.3.1->globus-sdk->intake_esgf) (2.22)\n",
      "Requirement already satisfied: decorator in /srv/conda/envs/notebook/lib/python3.12/site-packages (from ipython>=6.1.0->ipywidgets>=6->tqdm[notebook]->intake_esgf) (5.1.1)\n",
      "Requirement already satisfied: jedi>=0.16 in /srv/conda/envs/notebook/lib/python3.12/site-packages (from ipython>=6.1.0->ipywidgets>=6->tqdm[notebook]->intake_esgf) (0.19.2)\n",
      "Requirement already satisfied: matplotlib-inline in /srv/conda/envs/notebook/lib/python3.12/site-packages (from ipython>=6.1.0->ipywidgets>=6->tqdm[notebook]->intake_esgf) (0.1.7)\n",
      "Requirement already satisfied: prompt-toolkit!=3.0.37,<3.1.0,>=3.0.30 in /srv/conda/envs/notebook/lib/python3.12/site-packages (from ipython>=6.1.0->ipywidgets>=6->tqdm[notebook]->intake_esgf) (3.0.38)\n",
      "Requirement already satisfied: pygments>=2.4.0 in /srv/conda/envs/notebook/lib/python3.12/site-packages (from ipython>=6.1.0->ipywidgets>=6->tqdm[notebook]->intake_esgf) (2.19.1)\n",
      "Requirement already satisfied: stack-data in /srv/conda/envs/notebook/lib/python3.12/site-packages (from ipython>=6.1.0->ipywidgets>=6->tqdm[notebook]->intake_esgf) (0.6.3)\n",
      "Requirement already satisfied: pexpect>4.3 in /srv/conda/envs/notebook/lib/python3.12/site-packages (from ipython>=6.1.0->ipywidgets>=6->tqdm[notebook]->intake_esgf) (4.9.0)\n",
      "Requirement already satisfied: parso<0.9.0,>=0.8.4 in /srv/conda/envs/notebook/lib/python3.12/site-packages (from jedi>=0.16->ipython>=6.1.0->ipywidgets>=6->tqdm[notebook]->intake_esgf) (0.8.4)\n",
      "Requirement already satisfied: ptyprocess>=0.5 in /srv/conda/envs/notebook/lib/python3.12/site-packages (from pexpect>4.3->ipython>=6.1.0->ipywidgets>=6->tqdm[notebook]->intake_esgf) (0.7.0)\n",
      "Requirement already satisfied: wcwidth in /srv/conda/envs/notebook/lib/python3.12/site-packages (from prompt-toolkit!=3.0.37,<3.1.0,>=3.0.30->ipython>=6.1.0->ipywidgets>=6->tqdm[notebook]->intake_esgf) (0.2.13)\n",
      "Requirement already satisfied: executing>=1.2.0 in /srv/conda/envs/notebook/lib/python3.12/site-packages (from stack-data->ipython>=6.1.0->ipywidgets>=6->tqdm[notebook]->intake_esgf) (2.1.0)\n",
      "Requirement already satisfied: asttokens>=2.1.0 in /srv/conda/envs/notebook/lib/python3.12/site-packages (from stack-data->ipython>=6.1.0->ipywidgets>=6->tqdm[notebook]->intake_esgf) (3.0.0)\n",
      "Requirement already satisfied: pure_eval in /srv/conda/envs/notebook/lib/python3.12/site-packages (from stack-data->ipython>=6.1.0->ipywidgets>=6->tqdm[notebook]->intake_esgf) (0.2.3)\n",
      "Downloading intake_esgf-2024.12.7-py3-none-any.whl (36 kB)\n",
      "Downloading globus_sdk-3.55.0-py3-none-any.whl (408 kB)\n",
      "Installing collected packages: globus-sdk, intake_esgf\n",
      "Successfully installed globus-sdk-3.55.0 intake_esgf-2024.12.7\n",
      "Note: you may need to restart the kernel to use updated packages.\n"
     ]
    }
   ],
   "source": [
    "# on starting the server, we need to run the line below once, as intake_esgf is not yet in our standard pangeo environment\n",
    "%pip install intake_esgf"
   ]
  },
  {
   "cell_type": "code",
   "execution_count": 5,
   "metadata": {},
   "outputs": [],
   "source": [
    "import intake_esgf\n",
    "cat = ESGFCatalog()"
   ]
  },
  {
   "cell_type": "code",
   "execution_count": 7,
   "metadata": {},
   "outputs": [
    {
     "data": {
      "text/html": [
       "<div>\n",
       "<style scoped>\n",
       "    .dataframe tbody tr th:only-of-type {\n",
       "        vertical-align: middle;\n",
       "    }\n",
       "\n",
       "    .dataframe tbody tr th {\n",
       "        vertical-align: top;\n",
       "    }\n",
       "\n",
       "    .dataframe thead th {\n",
       "        text-align: right;\n",
       "    }\n",
       "</style>\n",
       "<table border=\"1\" class=\"dataframe\">\n",
       "  <thead>\n",
       "    <tr style=\"text-align: right;\">\n",
       "      <th></th>\n",
       "      <th>cf_standard_name</th>\n",
       "      <th>variable_units</th>\n",
       "      <th>variable_long_name</th>\n",
       "    </tr>\n",
       "    <tr>\n",
       "      <th>variable_id</th>\n",
       "      <th></th>\n",
       "      <th></th>\n",
       "      <th></th>\n",
       "    </tr>\n",
       "  </thead>\n",
       "  <tbody>\n",
       "    <tr>\n",
       "      <th>hfls</th>\n",
       "      <td>surface_upward_latent_heat_flux</td>\n",
       "      <td>W m-2</td>\n",
       "      <td>Surface Upward Latent Heat Flux</td>\n",
       "    </tr>\n",
       "    <tr>\n",
       "      <th>hfss</th>\n",
       "      <td>surface_upward_sensible_heat_flux</td>\n",
       "      <td>W m-2</td>\n",
       "      <td>Surface Upward Sensible Heat Flux</td>\n",
       "    </tr>\n",
       "    <tr>\n",
       "      <th>rlds</th>\n",
       "      <td>surface_downwelling_longwave_flux_in_air</td>\n",
       "      <td>W m-2</td>\n",
       "      <td>Surface Downwelling Longwave Radiation</td>\n",
       "    </tr>\n",
       "    <tr>\n",
       "      <th>rsds</th>\n",
       "      <td>surface_downwelling_shortwave_flux_in_air</td>\n",
       "      <td>W m-2</td>\n",
       "      <td>Surface Downwelling Shortwave Radiation</td>\n",
       "    </tr>\n",
       "    <tr>\n",
       "      <th>sfcWind</th>\n",
       "      <td>wind_speed</td>\n",
       "      <td>m s-1</td>\n",
       "      <td>Near-Surface Wind Speed</td>\n",
       "    </tr>\n",
       "    <tr>\n",
       "      <th>ta</th>\n",
       "      <td>air_temperature</td>\n",
       "      <td>K</td>\n",
       "      <td>Air Temperature</td>\n",
       "    </tr>\n",
       "    <tr>\n",
       "      <th>tas</th>\n",
       "      <td>air_temperature</td>\n",
       "      <td>K</td>\n",
       "      <td>Near-Surface Air Temperature</td>\n",
       "    </tr>\n",
       "    <tr>\n",
       "      <th>tasmax</th>\n",
       "      <td>air_temperature</td>\n",
       "      <td>K</td>\n",
       "      <td>Daily Maximum Near-Surface Air Temperature</td>\n",
       "    </tr>\n",
       "    <tr>\n",
       "      <th>tasmin</th>\n",
       "      <td>air_temperature</td>\n",
       "      <td>K</td>\n",
       "      <td>Daily Minimum Near-Surface Air Temperature</td>\n",
       "    </tr>\n",
       "    <tr>\n",
       "      <th>vas</th>\n",
       "      <td>northward_wind</td>\n",
       "      <td>m s-1</td>\n",
       "      <td>Northward Near-Surface Wind</td>\n",
       "    </tr>\n",
       "  </tbody>\n",
       "</table>\n",
       "</div>"
      ],
      "text/plain": [
       "                                      cf_standard_name variable_units  \\\n",
       "variable_id                                                             \n",
       "hfls                   surface_upward_latent_heat_flux          W m-2   \n",
       "hfss                 surface_upward_sensible_heat_flux          W m-2   \n",
       "rlds          surface_downwelling_longwave_flux_in_air          W m-2   \n",
       "rsds         surface_downwelling_shortwave_flux_in_air          W m-2   \n",
       "sfcWind                                     wind_speed          m s-1   \n",
       "ta                                     air_temperature              K   \n",
       "tas                                    air_temperature              K   \n",
       "tasmax                                 air_temperature              K   \n",
       "tasmin                                 air_temperature              K   \n",
       "vas                                     northward_wind          m s-1   \n",
       "\n",
       "                                     variable_long_name  \n",
       "variable_id                                              \n",
       "hfls                    Surface Upward Latent Heat Flux  \n",
       "hfss                  Surface Upward Sensible Heat Flux  \n",
       "rlds             Surface Downwelling Longwave Radiation  \n",
       "rsds            Surface Downwelling Shortwave Radiation  \n",
       "sfcWind                         Near-Surface Wind Speed  \n",
       "ta                                      Air Temperature  \n",
       "tas                        Near-Surface Air Temperature  \n",
       "tasmax       Daily Maximum Near-Surface Air Temperature  \n",
       "tasmin       Daily Minimum Near-Surface Air Temperature  \n",
       "vas                         Northward Near-Surface Wind  "
      ]
     },
     "execution_count": 7,
     "metadata": {},
     "output_type": "execute_result"
    }
   ],
   "source": [
    "cat.variable_info(\"temperature air surface\")"
   ]
  },
  {
   "cell_type": "code",
   "execution_count": 8,
   "metadata": {},
   "outputs": [
    {
     "data": {
      "application/vnd.jupyter.widget-view+json": {
       "model_id": "23cfbf13424c48f3830dd7fdbe76b2ba",
       "version_major": 2,
       "version_minor": 0
      },
      "text/plain": [
       "   Searching indices:   0%|          |0/2 [       ?index/s]"
      ]
     },
     "metadata": {},
     "output_type": "display_data"
    },
    {
     "data": {
      "text/plain": [
       "Summary information for 1687 results:\n",
       "mip_era                                                     [CMIP6]\n",
       "activity_drs                                                 [CMIP]\n",
       "institution_id    [IPSL, NASA-GISS, NCAR, MPI-M, MRI, CNRM-CERFA...\n",
       "source_id         [IPSL-CM6A-LR, GISS-E2-1-H, CESM2, GISS-E2-1-G...\n",
       "experiment_id                                          [historical]\n",
       "member_id         [r9i1p1f1, r7i1p1f1, r4i1p1f1, r27i1p1f1, r5i1...\n",
       "table_id          [ImonGre, ImonAnt, Amon, day, 3hr, 6hrPlevPt, ...\n",
       "variable_id                                                   [tas]\n",
       "grid_label                             [grg, gra, gr, gn, gr1, gr2]\n",
       "dtype: object"
      ]
     },
     "execution_count": 8,
     "metadata": {},
     "output_type": "execute_result"
    }
   ],
   "source": [
    "cat.search(variable_id=\"tas\", experiment_id=\"historical\")"
   ]
  },
  {
   "cell_type": "code",
   "execution_count": 9,
   "metadata": {},
   "outputs": [
    {
     "data": {
      "application/vnd.jupyter.widget-view+json": {
       "model_id": "8fbf3920984a4bc0a68dc479e90124f4",
       "version_major": 2,
       "version_minor": 0
      },
      "text/plain": [
       "   Searching indices:   0%|          |0/2 [       ?index/s]"
      ]
     },
     "metadata": {},
     "output_type": "display_data"
    },
    {
     "data": {
      "text/plain": [
       "Summary information for 1 results:\n",
       "mip_era                [CMIP6]\n",
       "activity_drs            [CMIP]\n",
       "institution_id          [NCAR]\n",
       "source_id              [CESM2]\n",
       "experiment_id     [historical]\n",
       "member_id           [r1i1p1f1]\n",
       "table_id                [Amon]\n",
       "variable_id              [tas]\n",
       "grid_label                [gn]\n",
       "dtype: object"
      ]
     },
     "execution_count": 9,
     "metadata": {},
     "output_type": "execute_result"
    }
   ],
   "source": [
    "cat.search(\n",
    "    project='CMIP6',\n",
    "    experiment_id='historical',\n",
    "    source_id='CESM2',\n",
    "    variable_id='tas',  # surface air temperature\n",
    "    table_id='Amon',    # monthly atmospheric data\n",
    "    variant_label='r1i1p1f1'  # ensemble member\n",
    ")"
   ]
  },
  {
   "cell_type": "code",
   "execution_count": 10,
   "metadata": {},
   "outputs": [
    {
     "data": {
      "application/vnd.jupyter.widget-view+json": {
       "model_id": "2e27d0aea7234e77ad702d14ffdb088e",
       "version_major": 2,
       "version_minor": 0
      },
      "text/plain": [
       "Get file information:   0%|          |0/2 [       ?index/s]"
      ]
     },
     "metadata": {},
     "output_type": "display_data"
    },
    {
     "name": "stdout",
     "output_type": "stream",
     "text": [
      "Downloading 243.0 [Mb]...\n"
     ]
    },
    {
     "data": {
      "application/vnd.jupyter.widget-view+json": {
       "model_id": "77444c7f27d94e55920c52d599c41527",
       "version_major": 2,
       "version_minor": 0
      },
      "text/plain": [
       "tas_Amon_CESM2_historical_r1i1p1f1_gn...:   0%|          |0.00/243M [?B/s]"
      ]
     },
     "metadata": {},
     "output_type": "display_data"
    },
    {
     "data": {
      "application/vnd.jupyter.widget-view+json": {
       "model_id": "775afe7fa6a34f86bb9aa232ecca697b",
       "version_major": 2,
       "version_minor": 0
      },
      "text/plain": [
       "Adding cell measures:   0%|          |0/1 [     ?dataset/s]"
      ]
     },
     "metadata": {},
     "output_type": "display_data"
    },
    {
     "data": {
      "application/vnd.jupyter.widget-view+json": {
       "model_id": "1e890cc127394daf96830424687978d1",
       "version_major": 2,
       "version_minor": 0
      },
      "text/plain": [
       "areacella_fx_CESM2_historical_r1i1p1f...:   0%|          |0.00/43.8k [?B/s]"
      ]
     },
     "metadata": {},
     "output_type": "display_data"
    }
   ],
   "source": [
    "dsd = cat.to_dataset_dict() # dsd is a dictionary of xarray datasets"
   ]
  },
  {
   "cell_type": "code",
   "execution_count": 21,
   "metadata": {},
   "outputs": [
    {
     "name": "stdout",
     "output_type": "stream",
     "text": [
      "DataSet dictionary:  {'tas': <xarray.Dataset> Size: 438MB\n",
      "Dimensions:    (time: 1980, lat: 192, lon: 288, nbnd: 2)\n",
      "Coordinates:\n",
      "  * lat        (lat) float64 2kB -90.0 -89.06 -88.12 -87.17 ... 88.12 89.06 90.0\n",
      "  * lon        (lon) float64 2kB 0.0 1.25 2.5 3.75 ... 355.0 356.2 357.5 358.8\n",
      "  * time       (time) object 16kB 1850-01-15 12:00:00 ... 2014-12-15 12:00:00\n",
      "Dimensions without coordinates: nbnd\n",
      "Data variables:\n",
      "    tas        (time, lat, lon) float32 438MB 245.3 245.3 245.3 ... 245.0 245.0\n",
      "    time_bnds  (time, nbnd) object 32kB ...\n",
      "    lat_bnds   (lat, nbnd) float32 2kB ...\n",
      "    lon_bnds   (lon, nbnd) float32 2kB ...\n",
      "    areacella  (lat, lon) float32 221kB ...\n",
      "Attributes: (12/47)\n",
      "    Conventions:            CF-1.7 CMIP-6.2\n",
      "    activity_id:            CMIP\n",
      "    case_id:                15\n",
      "    cesm_casename:          b.e21.BHIST.f09_g17.CMIP6-historical.001\n",
      "    contact:                cesm_cmip6@ucar.edu\n",
      "    creation_date:          2019-01-16T23:34:05Z\n",
      "    ...                     ...\n",
      "    branch_time_in_parent:  219000.0\n",
      "    branch_time_in_child:   674885.0\n",
      "    branch_method:          standard\n",
      "    further_info_url:       https://furtherinfo.es-doc.org/CMIP6.NCAR.CESM2.h...\n",
      "    activity_drs:           CMIP\n",
      "    member_id:              r1i1p1f1}\n",
      "DataSet:  <xarray.Dataset> Size: 438MB\n",
      "Dimensions:    (time: 1980, lat: 192, lon: 288, nbnd: 2)\n",
      "Coordinates:\n",
      "  * lat        (lat) float64 2kB -90.0 -89.06 -88.12 -87.17 ... 88.12 89.06 90.0\n",
      "  * lon        (lon) float64 2kB 0.0 1.25 2.5 3.75 ... 355.0 356.2 357.5 358.8\n",
      "  * time       (time) object 16kB 1850-01-15 12:00:00 ... 2014-12-15 12:00:00\n",
      "Dimensions without coordinates: nbnd\n",
      "Data variables:\n",
      "    tas        (time, lat, lon) float32 438MB 245.3 245.3 245.3 ... 245.0 245.0\n",
      "    time_bnds  (time, nbnd) object 32kB ...\n",
      "    lat_bnds   (lat, nbnd) float32 2kB ...\n",
      "    lon_bnds   (lon, nbnd) float32 2kB ...\n",
      "    areacella  (lat, lon) float32 221kB ...\n",
      "Attributes: (12/47)\n",
      "    Conventions:            CF-1.7 CMIP-6.2\n",
      "    activity_id:            CMIP\n",
      "    case_id:                15\n",
      "    cesm_casename:          b.e21.BHIST.f09_g17.CMIP6-historical.001\n",
      "    contact:                cesm_cmip6@ucar.edu\n",
      "    creation_date:          2019-01-16T23:34:05Z\n",
      "    ...                     ...\n",
      "    branch_time_in_parent:  219000.0\n",
      "    branch_time_in_child:   674885.0\n",
      "    branch_method:          standard\n",
      "    further_info_url:       https://furtherinfo.es-doc.org/CMIP6.NCAR.CESM2.h...\n",
      "    activity_drs:           CMIP\n",
      "    member_id:              r1i1p1f1\n",
      "DataArray:  <xarray.DataArray 'tas' (time: 1980, lat: 192, lon: 288)> Size: 438MB\n",
      "array([[[245.32208, 245.32208, ..., 245.32208, 245.32208],\n",
      "        [246.10596, 246.06238, ..., 246.15019, 246.12573],\n",
      "        ...,\n",
      "        [245.02821, 245.0406 , ..., 244.99951, 245.01454],\n",
      "        [244.50035, 244.50319, ..., 244.49379, 244.49722]],\n",
      "\n",
      "       [[232.51073, 232.51073, ..., 232.51073, 232.51073],\n",
      "        [233.30011, 233.26118, ..., 233.32066, 233.31026],\n",
      "        ...,\n",
      "        [244.68976, 244.70775, ..., 244.64677, 244.6693 ],\n",
      "        [243.6899 , 243.6928 , ..., 243.68317, 243.68669]],\n",
      "\n",
      "       ...,\n",
      "\n",
      "       [[234.63194, 234.63194, ..., 234.63194, 234.63194],\n",
      "        [235.37543, 235.35039, ..., 235.38136, 235.37898],\n",
      "        ...,\n",
      "        [256.5771 , 256.58975, ..., 256.5506 , 256.56418],\n",
      "        [256.69495, 256.69467, ..., 256.69556, 256.69522]],\n",
      "\n",
      "       [[246.79817, 246.79817, ..., 246.79817, 246.79817],\n",
      "        [247.46426, 247.42882, ..., 247.48152, 247.47386],\n",
      "        ...,\n",
      "        [244.81926, 244.83385, ..., 244.78955, 244.80447],\n",
      "        [245.01997, 245.01904, ..., 245.02213, 245.021  ]]], dtype=float32)\n",
      "Coordinates:\n",
      "  * lat      (lat) float64 2kB -90.0 -89.06 -88.12 -87.17 ... 88.12 89.06 90.0\n",
      "  * lon      (lon) float64 2kB 0.0 1.25 2.5 3.75 5.0 ... 355.0 356.2 357.5 358.8\n",
      "  * time     (time) object 16kB 1850-01-15 12:00:00 ... 2014-12-15 12:00:00\n",
      "Attributes: (12/19)\n",
      "    cell_measures:  area: areacella\n",
      "    cell_methods:   area: time: mean\n",
      "    comment:        near-surface (usually, 2 meter) air temperature\n",
      "    description:    near-surface (usually, 2 meter) air temperature\n",
      "    frequency:      mon\n",
      "    id:             tas\n",
      "    ...             ...\n",
      "    time_label:     time-mean\n",
      "    time_title:     Temporal mean\n",
      "    title:          Near-Surface Air Temperature\n",
      "    type:           real\n",
      "    units:          K\n",
      "    variable_id:    tas\n"
     ]
    }
   ],
   "source": [
    "ds = dsd['tas'] # DataSet: subsetting the dictionary on the variable name gives the xarray DataSet containing the tas data\n",
    "da = dsd['tas']['tas'] # DataArray: selecting the variable tas on the DataSet gives the xarray DataArray of tas data\n",
    "print('DataSet dictionary: ', dsd) \n",
    "print('DataSet: ', ds) # \n",
    "print('DataArray: ', da) # "
   ]
  },
  {
   "cell_type": "code",
   "execution_count": 13,
   "metadata": {},
   "outputs": [
    {
     "data": {
      "text/plain": [
       "<matplotlib.collections.QuadMesh at 0x7fc8d2b19a90>"
      ]
     },
     "execution_count": 13,
     "metadata": {},
     "output_type": "execute_result"
    },
    {
     "data": {
      "image/png": "[encoded data removed]",
      "text/plain": [
       "<Figure size 600x400 with 2 Axes>"
      ]
     },
     "metadata": {},
     "output_type": "display_data"
    }
   ],
   "source": [
    "import matplotlib.pyplot as plt\n",
    "fig, ax = plt.subplots(figsize=(6, 4), tight_layout=True)\n",
    "ds = dsd[\"tas\"][\"tas\"].mean(dim=\"time\") - 273.15  # to [C]\n",
    "ds.plot(ax=ax, cmap=\"bwr\", vmin=-40, vmax=40, \n",
    "        extend='both',cbar_kwargs={\"label\": \"tas [C]\"})\n"
   ]
  },
  {
   "cell_type": "code",
   "execution_count": null,
   "metadata": {},
   "outputs": [],
   "source": []
  },
  {
   "cell_type": "markdown",
   "metadata": {},
   "source": [
    "## Widening search criteria if data aren't found\n",
    "\n",
    "The default is for intake-esgf NOT to search over all possible sources of data (for performance reasons). But this means we may come back empty handed on a search when in fact the simulation data is available somewhere. \n",
    "\n",
    "for example, the code below will throw a \"NoSearchResults\" errror even though this simulation is available on the CEDA ESGF node:"
   ]
  },
  {
   "cell_type": "code",
   "execution_count": 3,
   "metadata": {},
   "outputs": [
    {
     "data": {
      "application/vnd.jupyter.widget-view+json": {
       "model_id": "3ba5c099e8d940f0ada7e1c179ec0dfa",
       "version_major": 2,
       "version_minor": 0
      },
      "text/plain": [
       "   Searching indices:   0%|          |0/2 [       ?index/s]"
      ]
     },
     "metadata": {},
     "output_type": "display_data"
    },
    {
     "ename": "NoSearchResults",
     "evalue": "",
     "output_type": "error",
     "traceback": [
      "\u001b[0;31m---------------------------------------------------------------------------\u001b[0m",
      "\u001b[0;31mNoSearchResults\u001b[0m                           Traceback (most recent call last)",
      "Cell \u001b[0;32mIn[3], line 1\u001b[0m\n\u001b[0;32m----> 1\u001b[0m \u001b[43mcat\u001b[49m\u001b[38;5;241;43m.\u001b[39;49m\u001b[43msearch\u001b[49m\u001b[43m(\u001b[49m\n\u001b[1;32m      2\u001b[0m \u001b[43m    \u001b[49m\u001b[43mproject\u001b[49m\u001b[38;5;241;43m=\u001b[39;49m\u001b[38;5;124;43m'\u001b[39;49m\u001b[38;5;124;43mCMIP6\u001b[39;49m\u001b[38;5;124;43m'\u001b[39;49m\u001b[43m,\u001b[49m\n\u001b[1;32m      3\u001b[0m \u001b[43m    \u001b[49m\u001b[43mexperiment_id\u001b[49m\u001b[38;5;241;43m=\u001b[39;49m\u001b[38;5;124;43m'\u001b[39;49m\u001b[38;5;124;43mG6sulfur\u001b[39;49m\u001b[38;5;124;43m'\u001b[39;49m\u001b[43m,\u001b[49m\n\u001b[1;32m      4\u001b[0m \u001b[43m    \u001b[49m\u001b[43msource_id\u001b[49m\u001b[38;5;241;43m=\u001b[39;49m\u001b[38;5;124;43m'\u001b[39;49m\u001b[38;5;124;43mUKESM1-0-LL\u001b[39;49m\u001b[38;5;124;43m'\u001b[39;49m\u001b[43m,\u001b[49m\n\u001b[1;32m      5\u001b[0m \u001b[43m    \u001b[49m\u001b[43mvariable_id\u001b[49m\u001b[38;5;241;43m=\u001b[39;49m\u001b[38;5;124;43m'\u001b[39;49m\u001b[38;5;124;43mtas\u001b[39;49m\u001b[38;5;124;43m'\u001b[39;49m\u001b[43m,\u001b[49m\u001b[43m  \u001b[49m\u001b[38;5;66;43;03m# surface air temperature\u001b[39;49;00m\n\u001b[1;32m      6\u001b[0m \u001b[43m    \u001b[49m\u001b[43mtable_id\u001b[49m\u001b[38;5;241;43m=\u001b[39;49m\u001b[38;5;124;43m'\u001b[39;49m\u001b[38;5;124;43mAmon\u001b[39;49m\u001b[38;5;124;43m'\u001b[39;49m\u001b[43m,\u001b[49m\u001b[43m    \u001b[49m\u001b[38;5;66;43;03m# monthly atmospheric data\u001b[39;49;00m\n\u001b[1;32m      7\u001b[0m \u001b[43m    \u001b[49m\u001b[43mvariant_label\u001b[49m\u001b[38;5;241;43m=\u001b[39;49m\u001b[43m[\u001b[49m\u001b[38;5;124;43m'\u001b[39;49m\u001b[38;5;124;43mr1i1p1f2\u001b[39;49m\u001b[38;5;124;43m'\u001b[39;49m\u001b[43m]\u001b[49m\u001b[43m  \u001b[49m\u001b[38;5;66;43;03m# ensemble member\u001b[39;49;00m\n\u001b[1;32m      8\u001b[0m \u001b[43m)\u001b[49m\n",
      "File \u001b[0;32m/srv/conda/envs/notebook/lib/python3.12/site-packages/intake_esgf/catalog.py:336\u001b[0m, in \u001b[0;36mESGFCatalog.search\u001b[0;34m(self, quiet, **search)\u001b[0m\n\u001b[1;32m    334\u001b[0m search_time \u001b[38;5;241m=\u001b[39m time\u001b[38;5;241m.\u001b[39mtime()\n\u001b[1;32m    335\u001b[0m dfs \u001b[38;5;241m=\u001b[39m ThreadPool(\u001b[38;5;28mlen\u001b[39m(\u001b[38;5;28mself\u001b[39m\u001b[38;5;241m.\u001b[39mindices))\u001b[38;5;241m.\u001b[39mimap_unordered(_search, \u001b[38;5;28mself\u001b[39m\u001b[38;5;241m.\u001b[39mindices)\n\u001b[0;32m--> 336\u001b[0m \u001b[38;5;28mself\u001b[39m\u001b[38;5;241m.\u001b[39mdf \u001b[38;5;241m=\u001b[39m \u001b[43mbase\u001b[49m\u001b[38;5;241;43m.\u001b[39;49m\u001b[43mcombine_results\u001b[49m\u001b[43m(\u001b[49m\n\u001b[1;32m    337\u001b[0m \u001b[43m    \u001b[49m\u001b[43mtqdm\u001b[49m\u001b[43m(\u001b[49m\n\u001b[1;32m    338\u001b[0m \u001b[43m        \u001b[49m\u001b[43mdfs\u001b[49m\u001b[43m,\u001b[49m\n\u001b[1;32m    339\u001b[0m \u001b[43m        \u001b[49m\u001b[43mdisable\u001b[49m\u001b[38;5;241;43m=\u001b[39;49m\u001b[43mquiet\u001b[49m\u001b[43m,\u001b[49m\n\u001b[1;32m    340\u001b[0m \u001b[43m        \u001b[49m\u001b[43mbar_format\u001b[49m\u001b[38;5;241;43m=\u001b[39;49m\u001b[43mbase\u001b[49m\u001b[38;5;241;43m.\u001b[39;49m\u001b[43mbar_format\u001b[49m\u001b[43m,\u001b[49m\n\u001b[1;32m    341\u001b[0m \u001b[43m        \u001b[49m\u001b[43munit\u001b[49m\u001b[38;5;241;43m=\u001b[39;49m\u001b[38;5;124;43m\"\u001b[39;49m\u001b[38;5;124;43mindex\u001b[39;49m\u001b[38;5;124;43m\"\u001b[39;49m\u001b[43m,\u001b[49m\n\u001b[1;32m    342\u001b[0m \u001b[43m        \u001b[49m\u001b[43munit_scale\u001b[49m\u001b[38;5;241;43m=\u001b[39;49m\u001b[38;5;28;43;01mFalse\u001b[39;49;00m\u001b[43m,\u001b[49m\n\u001b[1;32m    343\u001b[0m \u001b[43m        \u001b[49m\u001b[43mdesc\u001b[49m\u001b[38;5;241;43m=\u001b[39;49m\u001b[38;5;124;43m\"\u001b[39;49m\u001b[38;5;124;43mSearching indices\u001b[39;49m\u001b[38;5;124;43m\"\u001b[39;49m\u001b[43m,\u001b[49m\n\u001b[1;32m    344\u001b[0m \u001b[43m        \u001b[49m\u001b[43mascii\u001b[49m\u001b[38;5;241;43m=\u001b[39;49m\u001b[38;5;28;43;01mFalse\u001b[39;49;00m\u001b[43m,\u001b[49m\n\u001b[1;32m    345\u001b[0m \u001b[43m        \u001b[49m\u001b[43mtotal\u001b[49m\u001b[38;5;241;43m=\u001b[39;49m\u001b[38;5;28;43mlen\u001b[39;49m\u001b[43m(\u001b[49m\u001b[38;5;28;43mself\u001b[39;49m\u001b[38;5;241;43m.\u001b[39;49m\u001b[43mindices\u001b[49m\u001b[43m)\u001b[49m\u001b[43m,\u001b[49m\n\u001b[1;32m    346\u001b[0m \u001b[43m    \u001b[49m\u001b[43m)\u001b[49m\n\u001b[1;32m    347\u001b[0m \u001b[43m\u001b[49m\u001b[43m)\u001b[49m\n\u001b[1;32m    348\u001b[0m \u001b[38;5;28mself\u001b[39m\u001b[38;5;241m.\u001b[39m_set_project()\n\u001b[1;32m    350\u001b[0m \u001b[38;5;66;03m# even though we are using latest=True, because the search is distributed, we\u001b[39;00m\n\u001b[1;32m    351\u001b[0m \u001b[38;5;66;03m# may have different versions from different indices.\u001b[39;00m\n",
      "File \u001b[0;32m/srv/conda/envs/notebook/lib/python3.12/site-packages/intake_esgf/base.py:213\u001b[0m, in \u001b[0;36mcombine_results\u001b[0;34m(dfs)\u001b[0m\n\u001b[1;32m    211\u001b[0m \u001b[38;5;28;01mif\u001b[39;00m \u001b[38;5;28mlen\u001b[39m(df) \u001b[38;5;241m==\u001b[39m \u001b[38;5;241m0\u001b[39m:\n\u001b[1;32m    212\u001b[0m     logger\u001b[38;5;241m.\u001b[39minfo(\u001b[38;5;124m\"\u001b[39m\u001b[38;5;130;01m\\x1b\u001b[39;00m\u001b[38;5;124m[36;32msearch end \u001b[39m\u001b[38;5;130;01m\\x1b\u001b[39;00m\u001b[38;5;124m[91;20mno results\u001b[39m\u001b[38;5;130;01m\\033\u001b[39;00m\u001b[38;5;124m[0m\u001b[39m\u001b[38;5;124m\"\u001b[39m)\n\u001b[0;32m--> 213\u001b[0m     \u001b[38;5;28;01mraise\u001b[39;00m NoSearchResults()\n\u001b[1;32m    214\u001b[0m \u001b[38;5;66;03m# retrieve project information about how to combine results\u001b[39;00m\n\u001b[1;32m    215\u001b[0m project_id \u001b[38;5;241m=\u001b[39m df[\u001b[38;5;124m\"\u001b[39m\u001b[38;5;124mproject\u001b[39m\u001b[38;5;124m\"\u001b[39m]\u001b[38;5;241m.\u001b[39munique()\n",
      "\u001b[0;31mNoSearchResults\u001b[0m: "
     ]
    }
   ],
   "source": [
    "cat.search(\n",
    "    project='CMIP6',\n",
    "    experiment_id='G6sulfur',\n",
    "    source_id='UKESM1-0-LL',\n",
    "    variable_id='tas',  # surface air temperature\n",
    "    table_id='Amon',    # monthly atmospheric data\n",
    "    variant_label=['r1i1p1f2']  # ensemble member\n",
    ")"
   ]
  },
  {
   "cell_type": "markdown",
   "metadata": {},
   "source": [
    "The solution is to run the following two lines, which turn on all ESGF nodes for the search:"
   ]
  },
  {
   "cell_type": "code",
   "execution_count": 6,
   "metadata": {},
   "outputs": [
    {
     "data": {
      "application/vnd.jupyter.widget-view+json": {
       "model_id": "f12c0e9774104e7c83867a1bd0041b39",
       "version_major": 2,
       "version_minor": 0
      },
      "text/plain": [
       "   Searching indices:   0%|          |0/9 [       ?index/s]"
      ]
     },
     "metadata": {},
     "output_type": "display_data"
    },
    {
     "data": {
      "text/plain": [
       "Summary information for 1 results:\n",
       "mip_era                 [CMIP6]\n",
       "activity_drs           [GeoMIP]\n",
       "institution_id           [MOHC]\n",
       "source_id         [UKESM1-0-LL]\n",
       "experiment_id        [G6sulfur]\n",
       "member_id            [r1i1p1f2]\n",
       "table_id                 [Amon]\n",
       "variable_id               [tas]\n",
       "grid_label                 [gn]\n",
       "dtype: object"
      ]
     },
     "execution_count": 6,
     "metadata": {},
     "output_type": "execute_result"
    }
   ],
   "source": [
    "## run the following line to widen search criteria to include all ESGF nodes\n",
    "intake_esgf.conf.set(all_indices=True)\n",
    "cat = ESGFCatalog()\n",
    "\n",
    "\n",
    "cat.search(\n",
    "    project='CMIP6',\n",
    "    experiment_id='G6sulfur',\n",
    "    source_id='UKESM1-0-LL',\n",
    "    variable_id='tas',  # surface air temperature\n",
    "    table_id='Amon',    # monthly atmospheric data\n",
    "    variant_label=['r1i1p1f2']  # ensemble member\n",
    ")"
   ]
  },
  {
   "cell_type": "code",
   "execution_count": null,
   "metadata": {},
   "outputs": [],
   "source": []
  }
 ],
 "metadata": {
  "kernelspec": {
   "display_name": "Python 3 (ipykernel)",
   "language": "python",
   "name": "python3"
  },
  "language_info": {
   "codemirror_mode": {
    "name": "ipython",
    "version": 3
   },
   "file_extension": ".py",
   "mimetype": "text/x-python",
   "name": "python",
   "nbconvert_exporter": "python",
   "pygments_lexer": "ipython3",
   "version": "3.12.8"
  }
 },
 "nbformat": 4,
 "nbformat_minor": 4
}
